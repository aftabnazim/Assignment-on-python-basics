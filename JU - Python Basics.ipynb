{
 "cells": [
  {
   "cell_type": "code",
   "execution_count": 2,
   "metadata": {},
   "outputs": [
    {
     "name": "stdout",
     "output_type": "stream",
     "text": [
      "{'g': 2, 'o': 2, 'e': 1, 'l': 1}\n"
     ]
    }
   ],
   "source": [
    "#1. Write a Python program to count the number of characters (character frequency) in a string.\n",
    "#Sample String : google.com\n",
    "#Expected Result : {'o': 3, 'g': 2, '.': 1, 'e': 1, 'l': 1, 'm': 1, 'c': 1}\n",
    "\n",
    "input_string = input('Please input the String: ')\n",
    "\n",
    "cnt = dict()\n",
    "\n",
    "\n",
    "for a in input_string:\n",
    "    if a in cnt.keys():\n",
    "        cnt[a] +=1 \n",
    "    else :\n",
    "        cnt[a] = 1 \n",
    "\n",
    "\n",
    "cnt = dict(sorted(cnt.items(), key=lambda x: (-x[1], x[0])))\n",
    "\n",
    "print(cnt)"
   ]
  },
  {
   "cell_type": "code",
   "execution_count": 4,
   "metadata": {},
   "outputs": [
    {
     "name": "stdout",
     "output_type": "stream",
     "text": [
      "Not Exists\n"
     ]
    }
   ],
   "source": [
    "#2. Write a Python program to check if a given key already exists in a dictionary.\n",
    "\n",
    "input_keys = input('Please input the keys of the dictionary seperated by comma: ')\n",
    "\n",
    "input_values = input('Please input the values of the dictionary seperated by comma: ')\n",
    "\n",
    "Dict = dict(zip(input_keys.split(','), input_values.split(',')))\n",
    "\n",
    "\n",
    "check = input('Please input the checking string: ')\n",
    "\n",
    "print('Exists' if check in Dict else 'Not Exists')"
   ]
  },
  {
   "cell_type": "code",
   "execution_count": 5,
   "metadata": {},
   "outputs": [
    {
     "name": "stdout",
     "output_type": "stream",
     "text": [
      "List : ['1', ' 5', ' 7', ' 23']\n",
      "Tuple : ('1', ' 5', ' 7', ' 23')\n"
     ]
    }
   ],
   "source": [
    "#3. Write a Python program that accepts a sequence of comma-separated numbers from the\n",
    "#user and generates a list and a tuple of those numbers.\n",
    "#Sample data : 1, 5, 7, 23\n",
    "#Expected Output :\n",
    "#List : ['1', ' 5', ' 7', ' 23']\n",
    "#Tuple : ('1', ' 5', ' 7', ' 23')\n",
    "\n",
    "input_values = input('Please input the values of the list/tuple seperated by comma: ')\n",
    "\n",
    "print(\"List :\" , input_values.split(','))\n",
    "print(\"Tuple :\" , tuple(input_values.split(',')))"
   ]
  },
  {
   "cell_type": "code",
   "execution_count": 7,
   "metadata": {},
   "outputs": [
    {
     "name": "stdout",
     "output_type": "stream",
     "text": [
      "9 days\n"
     ]
    }
   ],
   "source": [
    "#4. Write a Python program to calculate the number of days between two dates.\n",
    "#Sample dates : (2014, 7, 2), (2014, 7, 11)\n",
    "#Expected output : 9 days\n",
    "\n",
    "from datetime import datetime\n",
    "\n",
    "_1 = input('Please input the first date in year,month,day format: ')\n",
    "\n",
    "_2 = input('Please input the 2nd date in year,month,day format: ')\n",
    "\n",
    "\n",
    "Date1_list = [int(x) for x in _1.split(',')]\n",
    "\n",
    "Date2_list = [int(x) for x in _2.split(',')]\n",
    "\n",
    "dt1 = datetime(*Date1_list)\n",
    "dt2 = datetime(*Date2_list)\n",
    "\n",
    "print((dt2 - dt1).days, 'days')"
   ]
  },
  {
   "cell_type": "code",
   "execution_count": 8,
   "metadata": {},
   "outputs": [
    {
     "name": "stdout",
     "output_type": "stream",
     "text": [
      "(4  + 3) ^ 2 =  49\n"
     ]
    }
   ],
   "source": [
    "#5. Write a Python program to solve (x + y) * (x + y).\n",
    "#Test Data : x = 4, y = 3\n",
    "#Expected Output : (4 + 3) ^ 2) = 49\n",
    "\n",
    "x = int(input('Please input x: '))\n",
    "y = int(input('Please input y: '))\n",
    "\n",
    "print(\"(\" + str(x), \" + \" + str(y) + \") ^ 2 = \" , (x+y) * (x+y))"
   ]
  },
  {
   "cell_type": "code",
   "execution_count": 10,
   "metadata": {},
   "outputs": [
    {
     "name": "stdout",
     "output_type": "stream",
     "text": [
      "1272.28\n"
     ]
    }
   ],
   "source": [
    "#6. Write a Python program to compute the future value of a specified principal amount,\n",
    "#rate of interest, and number of years.\n",
    "#Test Data : amt = 1000, int = 3.5, years = 7\n",
    "#Expected Output : 1272.28\n",
    "\n",
    "input_values = input('Please input P, r, t in comma seperated values: ')\n",
    "\n",
    "P, r, t = [float(x) for x in input_values.split(',')]\n",
    "\n",
    "FV = P*((1+(0.01*r)) ** t)\n",
    "\n",
    "print(round(FV,2))"
   ]
  },
  {
   "cell_type": "code",
   "execution_count": 11,
   "metadata": {},
   "outputs": [
    {
     "name": "stdout",
     "output_type": "stream",
     "text": [
      "The list of unique numbers : [0, 1, 2, 3, 4]\n",
      "length of the unique list : 5\n"
     ]
    }
   ],
   "source": [
    "#7. Write a Python program that removes duplicate elements from a given array of numbers so\n",
    "#that each element appears only once and returns the new length of the array.\n",
    "#Sample Input: [0,0,1,1,2,2,3,3,4,4,4]\n",
    "#Sample Output:\n",
    "#The list of unique numbers: [0,1,2,3,4]\n",
    "#length of the unique list : 5\n",
    "\n",
    "input_values = input('Please input list elements in comma seperated values: ')\n",
    "\n",
    "new_list = list(set([int(x) for x in input_values.split(',')]))\n",
    "\n",
    "print(\"The list of unique numbers :\", new_list)\n",
    "print(\"length of the unique list :\", len(new_list))\n",
    "     "
   ]
  },
  {
   "cell_type": "code",
   "execution_count": 12,
   "metadata": {},
   "outputs": [
    {
     "name": "stdout",
     "output_type": "stream",
     "text": [
      "Ascending :  {' .': 1, ' c': 1, ' e': 1, ' l': 1, ' m': 1, ' g': 2, '0': 3}\n",
      "Descending :  {'0': 3, ' g': 2, ' .': 1, ' c': 1, ' e': 1, ' l': 1, ' m': 1}\n"
     ]
    }
   ],
   "source": [
    "#8. Write a Python program to sort (ascending and descending) a dictionary by key value.\n",
    "\n",
    "input_keys = input('Please input the keys of the dictionary seperated by comma: ')\n",
    "\n",
    "input_values = input('Please input the values of the dictionary seperated by comma: ')\n",
    "\n",
    "Dict = dict(zip(input_keys.split(','), [int(x) for x in input_values.split(',')]))\n",
    "\n",
    "\n",
    "print(\"Ascending : \", dict(sorted(Dict.items(), key=lambda x: x[1])))\n",
    "\n",
    "print(\"Descending : \", dict(sorted(Dict.items(), key=lambda x: x[1], reverse = True)))"
   ]
  },
  {
   "cell_type": "code",
   "execution_count": 13,
   "metadata": {},
   "outputs": [
    {
     "name": "stdout",
     "output_type": "stream",
     "text": [
      "{0: 10, 1: 20, 2: 30}\n"
     ]
    }
   ],
   "source": [
    "#9. Write a Python program to add key to a dictionary. Go to the editor\n",
    "#Sample Dictionary : {0: 10, 1: 20}\n",
    "#Expected Result : {0: 10, 1: 20, 2: 30}\n",
    "\n",
    "Dict = {0: 10, 1: 20}\n",
    "Dict[2] = 30\n",
    "\n",
    "print(Dict)"
   ]
  },
  {
   "cell_type": "code",
   "execution_count": 14,
   "metadata": {},
   "outputs": [
    {
     "data": {
      "text/html": [
       "<div>\n",
       "<style scoped>\n",
       "    .dataframe tbody tr th:only-of-type {\n",
       "        vertical-align: middle;\n",
       "    }\n",
       "\n",
       "    .dataframe tbody tr th {\n",
       "        vertical-align: top;\n",
       "    }\n",
       "\n",
       "    .dataframe thead th {\n",
       "        text-align: right;\n",
       "    }\n",
       "</style>\n",
       "<table border=\"1\" class=\"dataframe\">\n",
       "  <thead>\n",
       "    <tr style=\"text-align: right;\">\n",
       "      <th></th>\n",
       "      <th>name</th>\n",
       "      <th>score</th>\n",
       "      <th>attempts</th>\n",
       "      <th>qualify</th>\n",
       "    </tr>\n",
       "  </thead>\n",
       "  <tbody>\n",
       "    <tr>\n",
       "      <th>a</th>\n",
       "      <td>Arif</td>\n",
       "      <td>12.5</td>\n",
       "      <td>1</td>\n",
       "      <td>yes</td>\n",
       "    </tr>\n",
       "    <tr>\n",
       "      <th>b</th>\n",
       "      <td>Asir</td>\n",
       "      <td>9.0</td>\n",
       "      <td>3</td>\n",
       "      <td>no</td>\n",
       "    </tr>\n",
       "    <tr>\n",
       "      <th>c</th>\n",
       "      <td>Arik</td>\n",
       "      <td>16.5</td>\n",
       "      <td>2</td>\n",
       "      <td>yes</td>\n",
       "    </tr>\n",
       "    <tr>\n",
       "      <th>d</th>\n",
       "      <td>Anis</td>\n",
       "      <td>NaN</td>\n",
       "      <td>3</td>\n",
       "      <td>no</td>\n",
       "    </tr>\n",
       "    <tr>\n",
       "      <th>e</th>\n",
       "      <td>Anil</td>\n",
       "      <td>9.0</td>\n",
       "      <td>2</td>\n",
       "      <td>no</td>\n",
       "    </tr>\n",
       "    <tr>\n",
       "      <th>f</th>\n",
       "      <td>Ashish</td>\n",
       "      <td>20.0</td>\n",
       "      <td>3</td>\n",
       "      <td>yes</td>\n",
       "    </tr>\n",
       "    <tr>\n",
       "      <th>g</th>\n",
       "      <td>Anahi</td>\n",
       "      <td>14.5</td>\n",
       "      <td>1</td>\n",
       "      <td>yes</td>\n",
       "    </tr>\n",
       "    <tr>\n",
       "      <th>h</th>\n",
       "      <td>Alia</td>\n",
       "      <td>NaN</td>\n",
       "      <td>1</td>\n",
       "      <td>no</td>\n",
       "    </tr>\n",
       "    <tr>\n",
       "      <th>i</th>\n",
       "      <td>Alvin</td>\n",
       "      <td>8.0</td>\n",
       "      <td>2</td>\n",
       "      <td>no</td>\n",
       "    </tr>\n",
       "    <tr>\n",
       "      <th>j</th>\n",
       "      <td>Asim</td>\n",
       "      <td>19.0</td>\n",
       "      <td>1</td>\n",
       "      <td>yes</td>\n",
       "    </tr>\n",
       "  </tbody>\n",
       "</table>\n",
       "</div>"
      ],
      "text/plain": [
       "     name  score  attempts qualify\n",
       "a    Arif   12.5         1     yes\n",
       "b    Asir    9.0         3      no\n",
       "c    Arik   16.5         2     yes\n",
       "d    Anis    NaN         3      no\n",
       "e    Anil    9.0         2      no\n",
       "f  Ashish   20.0         3     yes\n",
       "g   Anahi   14.5         1     yes\n",
       "h    Alia    NaN         1      no\n",
       "i   Alvin    8.0         2      no\n",
       "j    Asim   19.0         1     yes"
      ]
     },
     "execution_count": 14,
     "metadata": {},
     "output_type": "execute_result"
    }
   ],
   "source": [
    "#10. Write a Pandas program to create and display a DataFrame from a specified dictionary data which has the index labels.\n",
    "#Sample Python dictionary data and list labels:\n",
    "#exam_data = {'name': ['Arif', 'Asir', 'Arik', 'Anis', 'Anil', 'Ashish', 'Anahi', 'Alia', 'Alvin', 'Asim'],\n",
    "#'score': [12.5, 9, 16.5, np.nan, 9, 20, 14.5, np.nan, 8, 19],\n",
    "#'attempts': [1, 3, 2, 3, 2, 3, 1, 1, 2, 1],\n",
    "#'qualify': ['yes', 'no', 'yes', 'no', 'no', 'yes', 'yes', 'no', 'no', 'yes']}\n",
    "#labels = ['a', 'b', 'c', 'd', 'e', 'f', 'g', 'h', 'i', 'j']\n",
    "\n",
    "import pandas as pd\n",
    "import numpy as np\n",
    "\n",
    "exam_data = {\n",
    "            'name': ['Arif', 'Asir', 'Arik', 'Anis', 'Anil', 'Ashish', 'Anahi', 'Alia', 'Alvin', 'Asim'],\n",
    "            'score': [12.5, 9, 16.5, np.nan, 9, 20, 14.5, np.nan, 8, 19],\n",
    "            'attempts': [1, 3, 2, 3, 2, 3, 1, 1, 2, 1],\n",
    "            'qualify': ['yes', 'no', 'yes', 'no', 'no', 'yes', 'yes', 'no', 'no', 'yes']\n",
    "            }\n",
    "\n",
    "\n",
    "labels = ['a', 'b', 'c', 'd', 'e', 'f', 'g', 'h', 'i', 'j']\n",
    "\n",
    "df = pd.DataFrame.from_dict(exam_data)\n",
    "\n",
    "df.index = labels\n",
    "df"
   ]
  }
 ],
 "metadata": {
  "kernelspec": {
   "display_name": "venv",
   "language": "python",
   "name": "python3"
  },
  "language_info": {
   "codemirror_mode": {
    "name": "ipython",
    "version": 3
   },
   "file_extension": ".py",
   "mimetype": "text/x-python",
   "name": "python",
   "nbconvert_exporter": "python",
   "pygments_lexer": "ipython3",
   "version": "3.11.3"
  },
  "orig_nbformat": 4
 },
 "nbformat": 4,
 "nbformat_minor": 2
}
